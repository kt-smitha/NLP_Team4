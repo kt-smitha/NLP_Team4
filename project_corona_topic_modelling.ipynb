{
 "cells": [
  {
   "cell_type": "markdown",
   "metadata": {},
   "source": [
    "TEAM 4 "
   ]
  },
  {
   "cell_type": "code",
   "execution_count": 1,
   "metadata": {},
   "outputs": [
    {
     "name": "stderr",
     "output_type": "stream",
     "text": [
      "C:\\Users\\ktsmi\\anaconda3\\lib\\site-packages\\sklearn\\decomposition\\_lda.py:28: DeprecationWarning: `np.float` is a deprecated alias for the builtin `float`. To silence this warning, use `float` by itself. Doing this will not modify any behavior and is safe. If you specifically wanted the numpy scalar type, use `np.float64` here.\n",
      "Deprecated in NumPy 1.20; for more details and guidance: https://numpy.org/devdocs/release/1.20.0-notes.html#deprecations\n",
      "  EPS = np.finfo(np.float).eps\n",
      "C:\\Users\\ktsmi\\anaconda3\\lib\\site-packages\\scipy\\sparse\\sparsetools.py:21: DeprecationWarning: `scipy.sparse.sparsetools` is deprecated!\n",
      "scipy.sparse.sparsetools is a private module for scipy.sparse, and should not be used.\n",
      "  _deprecated()\n",
      "C:\\Users\\ktsmi\\anaconda3\\lib\\site-packages\\gensim\\similarities\\__init__.py:15: UserWarning: The gensim.similarities.levenshtein submodule is disabled, because the optional Levenshtein package <https://pypi.org/project/python-Levenshtein/> is unavailable. Install Levenhstein (e.g. `pip install python-Levenshtein`) to suppress this warning.\n",
      "  warnings.warn(msg)\n"
     ]
    }
   ],
   "source": [
    "import pandas as pd\n",
    "import numpy as np\n",
    "import regex as re\n",
    "from nltk.corpus import stopwords\n",
    "from nltk.stem.wordnet import WordNetLemmatizer\n",
    "from wordcloud import WordCloud\n",
    "import string\n",
    "import pyLDAvis\n",
    "from gensim import corpora\n",
    "import warnings\n",
    "import pyLDAvis.gensim_models  as gm\n",
    "import gensim\n",
    "import matplotlib.pyplot as plt\n",
    "warnings.filterwarnings(action='once')"
   ]
  },
  {
   "cell_type": "code",
   "execution_count": 3,
   "metadata": {},
   "outputs": [
    {
     "name": "stderr",
     "output_type": "stream",
     "text": [
      "C:\\Users\\ktsmi\\anaconda3\\lib\\site-packages\\ipykernel\\ipkernel.py:287: DeprecationWarning: `should_run_async` will not call `transform_cell` automatically in the future. Please pass the result to `transformed_cell` argument and any exception that happen during thetransform in `preprocessing_exc_tuple` in IPython 7.17 and above.\n",
      "  and should_run_async(code)\n"
     ]
    }
   ],
   "source": [
    "tweet_data = pd.read_csv('JanDec2021.csv')"
   ]
  },
  {
   "cell_type": "code",
   "execution_count": 4,
   "metadata": {},
   "outputs": [],
   "source": [
    "tweet_data.drop('Unnamed: 0',inplace = True,axis = 1)"
   ]
  },
  {
   "cell_type": "code",
   "execution_count": 5,
   "metadata": {},
   "outputs": [
    {
     "name": "stdout",
     "output_type": "stream",
     "text": [
      "<class 'pandas.core.frame.DataFrame'>\n",
      "RangeIndex: 250558 entries, 0 to 250557\n",
      "Data columns (total 25 columns):\n",
      " #   Column           Non-Null Count   Dtype \n",
      "---  ------           --------------   ----- \n",
      " 0   id               250558 non-null  int64 \n",
      " 1   conversation_id  250558 non-null  int64 \n",
      " 2   created_at       250558 non-null  object\n",
      " 3   date             250558 non-null  object\n",
      " 4   time             250558 non-null  object\n",
      " 5   user_id          250558 non-null  int64 \n",
      " 6   username         250558 non-null  object\n",
      " 7   name             250549 non-null  object\n",
      " 8   place            251 non-null     object\n",
      " 9   tweet            250558 non-null  object\n",
      " 10  language         250558 non-null  object\n",
      " 11  mentions         250558 non-null  object\n",
      " 12  urls             250558 non-null  object\n",
      " 13  photos           250558 non-null  object\n",
      " 14  replies_count    250558 non-null  int64 \n",
      " 15  retweets_count   250558 non-null  int64 \n",
      " 16  likes_count      250558 non-null  int64 \n",
      " 17  hashtags         250558 non-null  object\n",
      " 18  cashtags         250558 non-null  object\n",
      " 19  link             250558 non-null  object\n",
      " 20  retweet          250558 non-null  bool  \n",
      " 21  quote_url        11300 non-null   object\n",
      " 22  video            250558 non-null  int64 \n",
      " 23  thumbnail        61416 non-null   object\n",
      " 24  reply_to         250558 non-null  object\n",
      "dtypes: bool(1), int64(7), object(17)\n",
      "memory usage: 46.1+ MB\n"
     ]
    }
   ],
   "source": [
    "tweet_data.info()"
   ]
  },
  {
   "cell_type": "code",
   "execution_count": 6,
   "metadata": {},
   "outputs": [
    {
     "data": {
      "text/plain": [
       "251"
      ]
     },
     "execution_count": 6,
     "metadata": {},
     "output_type": "execute_result"
    }
   ],
   "source": [
    "len(tweet_data)-sum(tweet_data.place.isnull())"
   ]
  },
  {
   "cell_type": "code",
   "execution_count": 7,
   "metadata": {},
   "outputs": [],
   "source": [
    "#considering only english tweet\n",
    "tweet_data = tweet_data[tweet_data.language == 'en']\n"
   ]
  },
  {
   "cell_type": "code",
   "execution_count": 8,
   "metadata": {},
   "outputs": [],
   "source": [
    "tweet_data.reset_index(drop=True,inplace = True)"
   ]
  },
  {
   "cell_type": "code",
   "execution_count": 9,
   "metadata": {},
   "outputs": [],
   "source": [
    "# clean the text\n",
    "def cleantext(text):\n",
    "    \n",
    "    #remove any mentions\n",
    "    text = re.sub(r'@[A-Za-z0-9]+', ' ', text) \n",
    "    \n",
    "    #remove hashtag\n",
    "    text = re.sub(r'#', ' ', text)\n",
    "    \n",
    "    #removing html \n",
    "    text = re.sub(r'&\\S+',' ',text)\n",
    "    \n",
    "    #remove hyperlink\n",
    "    text = re.sub(r'https?://\\S+',' ',text) \n",
    "    \n",
    "    #keep only alpha  \n",
    "    text = re.sub(r'[^a-zA-Z]',' ',text) \n",
    "    \n",
    "    # convert to lower case\n",
    "    words = [word.lower() for word in text.split()]   \n",
    "    \n",
    "    #filter out stop words \n",
    "    stop_words = set(stopwords.words('english'))\n",
    "    words = [word for word in words if not word in stop_words]\n",
    "    \n",
    "    #Lemmatisation\n",
    "    lem = WordNetLemmatizer()\n",
    "    words = [lem.lemmatize(word) for word in words]\n",
    "    \n",
    "    #consider words with length greatert than 1\n",
    "    words = [word for word in words if len(word)>1]\n",
    "\n",
    "    #remove custom stop words \n",
    "    custom_words = ['covid','india','case','coronavirus']\n",
    "    words = [word for word in words if not word in custom_words]\n",
    "    \n",
    "    return words"
   ]
  },
  {
   "cell_type": "code",
   "execution_count": 10,
   "metadata": {},
   "outputs": [],
   "source": [
    "#clean tweet\n",
    "tweet_data['clean_tweet'] = tweet_data.tweet.apply(lambda x: cleantext(x))"
   ]
  },
  {
   "cell_type": "code",
   "execution_count": 11,
   "metadata": {},
   "outputs": [],
   "source": [
    "#Extracrting corresponding states for India\n",
    "\n",
    "state_list = ['Andhra Pradesh','Arunachal Pradesh','Assam','Bihar','Chhattisgarh','Goa','Gujarat','Haryana','Himachal Pradesh',\n",
    "             'Jharkhand','Karnataka','Kerala','Madhya Pradesh','Maharashtra','Manipur','Meghalaya','Mizoram','Nagaland','Odisha',\n",
    "             'Punjab','Rajasthan','Sikkim','Tamil Nadu','Telangana','Tripura','Uttar Pradesh','Uttarakhand','West Bengal']\n",
    "state_list = [state.lower() for state in state_list]\n",
    "\n",
    "#creating column for 28 states as dummy variable \n",
    "tweet_data[state_list] = 0\n",
    "\n",
    "state_list_join = state_list\n",
    "state_list_no_space = [''.join(state.split()) for state in state_list if len(state.split())>1 ]\n",
    "\n",
    "state_list_join = state_list + state_list_no_space\n",
    "\n",
    "\n",
    "#extracting place and adding a new column for the same.\n",
    "tweet_data['state'] = tweet_data.clean_tweet.apply(lambda x: \n",
    "                                                   list(set(x).intersection(state_list_join)) if set(x).intersection(state_list_join) \n",
    "                                                  else '')\n",
    "\n",
    "nospace_to_space_dict = {'andhrapradesh': 'andhra pradesh','arunachalpradesh': 'arunachal pradesh', 'himachalpradesh' : 'himachal pradesh','madhyapradesh':'madhya pradesh',\n",
    "'tamilnadu':'tamil nadu', 'uttarpradesh':'uttar pradesh','westbengal':'west bengal'}\n",
    "\n",
    "#adding 1 for corresponding state column\n",
    "for ind, s_list in enumerate(tweet_data['state']):\n",
    "    if(s_list):\n",
    "        for s in s_list:\n",
    "            if(s in nospace_to_space_dict.keys()):\n",
    "                tweet_data.loc[ind,nospace_to_space_dict[s]]= 1\n",
    "            else:\n",
    "                tweet_data.loc[ind,s] = 1"
   ]
  },
  {
   "cell_type": "code",
   "execution_count": 12,
   "metadata": {},
   "outputs": [],
   "source": [
    "#temp = tweet_data[state_list].sum().reset_index()\n",
    "#temp.to_csv('state.csv',index = False)"
   ]
  },
  {
   "cell_type": "code",
   "execution_count": 13,
   "metadata": {},
   "outputs": [
    {
     "data": {
      "text/plain": [
       "(209715, 221026)"
      ]
     },
     "execution_count": 13,
     "metadata": {},
     "output_type": "execute_result"
    }
   ],
   "source": [
    "len(tweet_data) - sum(tweet_data.state!='') , len(tweet_data) "
   ]
  },
  {
   "cell_type": "code",
   "execution_count": 14,
   "metadata": {},
   "outputs": [],
   "source": [
    "#lets prepare custom stop words\n",
    "#pd.Series(sum(tweet_data.clean_tweet[:3000].values,[])).value_counts()[:50]"
   ]
  },
  {
   "cell_type": "code",
   "execution_count": 15,
   "metadata": {},
   "outputs": [],
   "source": [
    "#lets run word cloud to see if we want to remove unwanted commonly occuring word \n",
    "def show_wordcloud(data,title = None):\n",
    "    wordcloud = WordCloud(\n",
    "        background_color='white',\n",
    "        max_words=200,\n",
    "        max_font_size=40, \n",
    "        scale=3,\n",
    "        random_state=1 # chosen at random by flipping a coin; it was heads\n",
    "    ).generate((\" \").join(data))\n",
    "\n",
    "    fig = plt.figure(1, figsize=(10, 10))\n",
    "    plt.axis('off')\n",
    "    if title: \n",
    "        fig.suptitle(title, fontsize=20)\n",
    "        fig.subplots_adjust(top=1.35)\n",
    "\n",
    "    plt.imshow(wordcloud)\n",
    "    plt.show()"
   ]
  },
  {
   "cell_type": "code",
   "execution_count": 16,
   "metadata": {},
   "outputs": [],
   "source": [
    "#show_wordcloud(tweet_data.clean_tweet.values.sum())"
   ]
  },
  {
   "cell_type": "code",
   "execution_count": 17,
   "metadata": {},
   "outputs": [
    {
     "data": {
      "text/plain": [
       "vaccine        1554\n",
       "new             818\n",
       "news            632\n",
       "time            600\n",
       "dos             455\n",
       "day             453\n",
       "death           441\n",
       "via             424\n",
       "pm              402\n",
       "people          399\n",
       "positive        387\n",
       "maharashtra     348\n",
       "vaccination     348\n",
       "modi            343\n",
       "year            334\n",
       "state           319\n",
       "test            308\n",
       "app             301\n",
       "namo            288\n",
       "record          285\n",
       "dtype: int64"
      ]
     },
     "execution_count": 17,
     "metadata": {},
     "output_type": "execute_result"
    }
   ],
   "source": [
    "pd.Series(sum(tweet_data.clean_tweet[:5000].values,[])).value_counts()[:20]"
   ]
  },
  {
   "cell_type": "code",
   "execution_count": 23,
   "metadata": {},
   "outputs": [],
   "source": [
    "def lda_model(data,prefix,n_topics):\n",
    "    corpus_df = data\n",
    "    dictionary = corpora.Dictionary(corpus_df)\n",
    "    corpus = [dictionary.doc2bow(text) for text in corpus_df]\n",
    "\n",
    "    ldamodel = gensim.models.ldamodel.LdaModel(corpus, num_topics = n_topics, id2word=dictionary, passes=15)\n",
    "    ldamodel.save('model'+str(prefix)+'_'+str(n_topics)+'.gensim')\n",
    "    topics = ldamodel.print_topics(num_words=4)\n",
    "\n",
    "    for topic in topics:\n",
    "        print(topic)\n",
    "        \n",
    "    lda_display = gm.prepare(ldamodel, corpus, dictionary, sort_topics=False)\n",
    "    return(dictionary,corpus,pyLDAvis.display(lda_display))"
   ]
  },
  {
   "cell_type": "code",
   "execution_count": 24,
   "metadata": {},
   "outputs": [
    {
     "name": "stdout",
     "output_type": "stream",
     "text": [
      "(0, '0.103*\"vaccine\" + 0.025*\"vaccination\" + 0.017*\"approval\" + 0.015*\"pm\"')\n",
      "(1, '0.007*\"time\" + 0.006*\"due\" + 0.006*\"year\" + 0.005*\"people\"')\n",
      "(2, '0.048*\"new\" + 0.038*\"news\" + 0.028*\"death\" + 0.022*\"uk\"')\n"
     ]
    },
    {
     "data": {
      "text/html": [
       "\n",
       "<link rel=\"stylesheet\" type=\"text/css\" href=\"https://cdn.jsdelivr.net/gh/bmabey/pyLDAvis@3.3.1/pyLDAvis/js/ldavis.v1.0.0.css\">\n",
       "\n",
       "\n",
       "<div id=\"ldavis_el1214426595913075522471900635\"></div>\n",
       "<script type=\"text/javascript\">\n",
       "\n",
       "var ldavis_el1214426595913075522471900635_data = {\"mdsDat\": {\"x\": [0.24328277400668927, 0.05997282695824624, -0.30325560096493553], \"y\": [0.18265328581855947, -0.2748326461815797, 0.09217936036302017], \"topics\": [1, 2, 3], \"cluster\": [1, 1, 1], \"Freq\": [28.22278716898317, 51.066822563648074, 20.71039026736875]}, \"tinfo\": {\"Term\": [\"vaccine\", \"new\", \"news\", \"death\", \"vaccination\", \"uk\", \"approval\", \"day\", \"total\", \"report\", \"astrazeneca\", \"update\", \"emergency\", \"pm\", \"time\", \"drive\", \"strain\", \"gst\", \"recovery\", \"oxford\", \"active\", \"use\", \"dry\", \"run\", \"approves\", \"bharat\", \"state\", \"health\", \"minister\", \"covaxin\", \"vaccine\", \"approval\", \"astrazeneca\", \"drive\", \"emergency\", \"gst\", \"oxford\", \"approves\", \"bharat\", \"covaxin\", \"biotech\", \"covishield\", \"serum\", \"minister\", \"institute\", \"begin\", \"app\", \"dcgi\", \"namo\", \"rollout\", \"scientist\", \"dos\", \"largest\", \"phase\", \"trial\", \"programme\", \"launch\", \"return\", \"roll\", \"council\", \"prime\", \"vaccination\", \"approved\", \"pm\", \"use\", \"modi\", \"first\", \"biggest\", \"world\", \"via\", \"drug\", \"free\", \"made\", \"get\", \"country\", \"two\", \"say\", \"due\", \"please\", \"like\", \"need\", \"sir\", \"even\", \"flight\", \"awareness\", \"young\", \"combat\", \"good\", \"student\", \"despite\", \"australia\", \"yuvashaktiwithmodi\", \"nyks\", \"andolan\", \"life\", \"well\", \"back\", \"mask\", \"still\", \"crisis\", \"team\", \"situation\", \"want\", \"work\", \"service\", \"much\", \"going\", \"cancel\", \"public\", \"happy\", \"leading\", \"china\", \"started\", \"also\", \"many\", \"concern\", \"year\", \"would\", \"pandemic\", \"indian\", \"test\", \"people\", \"jan\", \"know\", \"time\", \"one\", \"fight\", \"country\", \"lockdown\", \"govt\", \"get\", \"world\", \"take\", \"day\", \"new\", \"news\", \"death\", \"total\", \"update\", \"report\", \"active\", \"recovery\", \"strain\", \"hour\", \"live\", \"record\", \"daily\", \"tally\", \"latest\", \"union\", \"fresh\", \"toll\", \"variant\", \"outbreak\", \"top\", \"reported\", \"lowest\", \"rise\", \"fightcorona\", \"unite\", \"boris\", \"infection\", \"highest\", \"tracker\", \"dry\", \"per\", \"run\", \"uk\", \"johnson\", \"state\", \"delhi\", \"day\", \"last\", \"corona\", \"time\", \"rate\", \"health\", \"ministry\", \"number\", \"january\", \"month\"], \"Freq\": [89617.0, 30831.0, 24280.0, 17811.0, 23167.0, 16699.0, 14445.0, 15045.0, 10327.0, 9528.0, 11838.0, 9108.0, 10709.0, 15374.0, 22343.0, 9668.0, 7232.0, 8915.0, 7100.0, 8738.0, 6908.0, 11907.0, 6797.0, 7523.0, 7678.0, 7508.0, 7488.0, 14383.0, 7261.0, 7086.0, 89616.80614555412, 14444.56764522097, 11837.86122317938, 9667.62492431122, 10708.993203257212, 8914.926121964178, 8737.293373880982, 7677.42274417396, 7507.470826971343, 7085.282071966879, 6788.028422500767, 6496.908691363069, 5775.209951921526, 7260.066626398271, 5841.198760842349, 5302.038530549794, 5005.112120354314, 4475.111357646677, 3722.386295358163, 3588.7619771867658, 3945.9214211318294, 3373.2076516250904, 3376.4206564637834, 3190.5954126404354, 3159.593329739437, 2929.6194683167487, 2939.268582810317, 3037.6326675714963, 2756.840769414605, 2638.775668564041, 2853.893877097756, 21339.95317243882, 4510.3190711739535, 12756.760407090651, 10095.759738062809, 7518.386882641089, 8642.01341824574, 3583.9366119417823, 10794.266909194886, 7946.81338374255, 4868.970483793642, 5681.397321015837, 5098.171696938449, 6125.4723232391325, 6427.904433163231, 4927.263917866304, 5316.971145267231, 9495.768583378991, 6823.813391176678, 6893.964122101863, 5985.813147226238, 4497.695856460999, 4541.137189099887, 4615.880448207612, 3743.816547350829, 3576.371105757017, 3610.1229897592852, 3979.1897388585867, 3272.9301772048784, 3602.476329822403, 3516.1426480169835, 3117.313099880336, 3080.0845642208997, 3193.8330624894797, 3129.1981169047417, 3101.1772987124405, 2937.4853762726757, 2777.0369154399036, 2954.45506944602, 3706.666229043646, 2808.252583520273, 3057.00953155204, 2615.685117288934, 2847.1655335155024, 2393.224185181788, 2408.7941898016074, 2603.0712899823166, 3163.4196705221757, 3124.492648713574, 2794.10291829698, 4803.182497726045, 7042.501798044183, 4664.759714336341, 4807.294756745684, 4911.467477389562, 4224.287467160986, 9280.969114025393, 3742.6867817629077, 7728.973831584372, 7500.018483479497, 7357.0554386426375, 8082.359829065103, 5537.982986414375, 4238.262788099116, 10327.924456009192, 5286.651262037053, 5010.236256196684, 6426.643951516361, 4137.171246331386, 4310.684380751171, 4681.423665382769, 4987.210017997571, 3855.210849517241, 3911.6446691680485, 30830.236904155325, 24279.31044798313, 17811.077867711505, 10327.079318821245, 9108.037184113453, 9527.778510007402, 6908.065124114429, 7099.878297238994, 7232.063510374053, 5142.11910663393, 5200.842858054098, 4454.008677360607, 4250.122689295344, 3707.4161130553175, 3700.7051066998774, 4242.668453142091, 3061.279045570643, 2733.4563017554597, 2800.0499288089504, 2860.73922213558, 2821.134590336771, 2512.9420663309916, 2333.454590084714, 2364.7745961556093, 2404.517823858079, 2417.804649976298, 3377.330772584008, 2338.35080537222, 2838.7473874201614, 2002.7204429071764, 6701.75437477421, 4644.965372269823, 6877.549715439331, 14168.40634930084, 3407.2488106796914, 6350.92560033682, 5400.672951877687, 11133.23373212884, 5477.3943078314105, 4978.947703444064, 11190.944177027697, 4293.005003042545, 7965.302544650272, 4304.22015392059, 3818.5540188526343, 3845.7603206257827, 3745.672436469423], \"Total\": [89617.0, 30831.0, 24280.0, 17811.0, 23167.0, 16699.0, 14445.0, 15045.0, 10327.0, 9528.0, 11838.0, 9108.0, 10709.0, 15374.0, 22343.0, 9668.0, 7232.0, 8915.0, 7100.0, 8738.0, 6908.0, 11907.0, 6797.0, 7523.0, 7678.0, 7508.0, 7488.0, 14383.0, 7261.0, 7086.0, 89617.61012840892, 14445.378921405683, 11838.618384794614, 9668.37467361, 10709.838390949099, 8915.68928375678, 8738.093690591792, 7678.218019537123, 7508.271932440692, 7086.05411873122, 6788.787195458053, 6497.655649869347, 5775.949701302222, 7261.016682950736, 5841.979201879471, 5302.819803575758, 5005.89116527342, 4475.891386742207, 3723.139504077338, 3589.513234663145, 3946.7780426577106, 3373.9462675510085, 3377.192751991265, 3191.3580524156228, 3160.398161427297, 2930.3816751177396, 2940.0469236963677, 3038.50314186098, 2757.6386235109776, 2639.5608156399803, 2854.842679899376, 23167.764515636944, 4620.560483774157, 15374.734984236358, 11907.370845216154, 9352.675539345539, 12291.385582234412, 3748.5510109344095, 17943.262035844666, 11644.894012327033, 5800.134465319811, 7334.2660418283585, 6498.747038509152, 10807.31033296332, 16390.946046472327, 6548.812684996123, 9602.495812829766, 9496.521172268875, 6824.476362918457, 6894.650635468272, 5986.64185721588, 4498.359863771142, 4541.843118492869, 4616.653621891621, 3744.4754346366326, 3577.022794091638, 3610.7922275868655, 3979.947039799038, 3273.579017276914, 3603.1995963603104, 3516.8560293537794, 3117.955773372707, 3080.7329458474524, 3194.5319356208943, 3129.8944089775687, 3101.8737987193313, 2938.187313695534, 2777.7052762530857, 2955.174277962973, 3707.5727964749763, 2808.958858725085, 3057.779061802228, 2616.3656483840646, 2847.909289998492, 2393.8930492502413, 2409.4907576319065, 2603.827999157213, 3164.7233667314713, 3125.534627202524, 2795.132720642355, 4871.5074146877405, 7512.6244395186395, 4888.255319917601, 5056.737972959307, 5189.341156022397, 4414.196455849823, 11635.320242547086, 3986.483104154056, 10414.29154005719, 10189.682682226532, 10272.014163952415, 13215.354393750647, 7634.503349262131, 5034.083106294999, 22343.8975656709, 7727.00706183301, 8629.170678930986, 16390.946046472327, 5542.6967309193205, 7119.482949648789, 10807.31033296332, 17943.262035844666, 5809.443199212281, 15045.35989094491, 30831.029302105144, 24280.08244714407, 17811.7632413033, 10327.751518145396, 9108.732093676874, 9528.515162035754, 6908.736319151366, 7100.570648095526, 7232.783624526863, 5142.797456009692, 5201.56264671699, 4454.688334586983, 4250.803807320759, 3708.080074735564, 3701.4213966209604, 4243.492033601202, 3061.9545720468113, 2734.125432344956, 2800.753541962056, 2861.4613353761874, 2821.886037792239, 2513.6291423403572, 2334.135889647701, 2365.4667081359466, 2405.224926219672, 2418.5158956852033, 3378.349277846192, 2339.067503949885, 2839.638905976617, 2003.3924613790466, 6797.157289975329, 4831.42082999133, 7523.360658928449, 16699.707113809716, 3529.6362311494386, 7488.994149108828, 6192.025612564142, 15045.35989094491, 6527.445485590494, 5991.504370205097, 22343.8975656709, 5322.3533582713535, 14383.730157969396, 5506.322270374488, 4976.6618011793835, 7610.897437239755, 6580.231716221371], \"Category\": [\"Default\", \"Default\", \"Default\", \"Default\", \"Default\", \"Default\", \"Default\", \"Default\", \"Default\", \"Default\", \"Default\", \"Default\", \"Default\", \"Default\", \"Default\", \"Default\", \"Default\", \"Default\", \"Default\", \"Default\", \"Default\", \"Default\", \"Default\", \"Default\", \"Default\", \"Default\", \"Default\", \"Default\", \"Default\", \"Default\", \"Topic1\", \"Topic1\", \"Topic1\", \"Topic1\", \"Topic1\", \"Topic1\", \"Topic1\", \"Topic1\", \"Topic1\", \"Topic1\", \"Topic1\", \"Topic1\", \"Topic1\", \"Topic1\", \"Topic1\", \"Topic1\", \"Topic1\", \"Topic1\", \"Topic1\", \"Topic1\", \"Topic1\", \"Topic1\", \"Topic1\", \"Topic1\", \"Topic1\", \"Topic1\", \"Topic1\", \"Topic1\", \"Topic1\", \"Topic1\", \"Topic1\", \"Topic1\", \"Topic1\", \"Topic1\", \"Topic1\", \"Topic1\", \"Topic1\", \"Topic1\", \"Topic1\", \"Topic1\", \"Topic1\", \"Topic1\", \"Topic1\", \"Topic1\", \"Topic1\", \"Topic1\", \"Topic1\", \"Topic2\", \"Topic2\", \"Topic2\", \"Topic2\", \"Topic2\", \"Topic2\", \"Topic2\", \"Topic2\", \"Topic2\", \"Topic2\", \"Topic2\", \"Topic2\", \"Topic2\", \"Topic2\", \"Topic2\", \"Topic2\", \"Topic2\", \"Topic2\", \"Topic2\", \"Topic2\", \"Topic2\", \"Topic2\", \"Topic2\", \"Topic2\", \"Topic2\", \"Topic2\", \"Topic2\", \"Topic2\", \"Topic2\", \"Topic2\", \"Topic2\", \"Topic2\", \"Topic2\", \"Topic2\", \"Topic2\", \"Topic2\", \"Topic2\", \"Topic2\", \"Topic2\", \"Topic2\", \"Topic2\", \"Topic2\", \"Topic2\", \"Topic2\", \"Topic2\", \"Topic2\", \"Topic2\", \"Topic2\", \"Topic2\", \"Topic2\", \"Topic2\", \"Topic2\", \"Topic2\", \"Topic2\", \"Topic2\", \"Topic2\", \"Topic2\", \"Topic3\", \"Topic3\", \"Topic3\", \"Topic3\", \"Topic3\", \"Topic3\", \"Topic3\", \"Topic3\", \"Topic3\", \"Topic3\", \"Topic3\", \"Topic3\", \"Topic3\", \"Topic3\", \"Topic3\", \"Topic3\", \"Topic3\", \"Topic3\", \"Topic3\", \"Topic3\", \"Topic3\", \"Topic3\", \"Topic3\", \"Topic3\", \"Topic3\", \"Topic3\", \"Topic3\", \"Topic3\", \"Topic3\", \"Topic3\", \"Topic3\", \"Topic3\", \"Topic3\", \"Topic3\", \"Topic3\", \"Topic3\", \"Topic3\", \"Topic3\", \"Topic3\", \"Topic3\", \"Topic3\", \"Topic3\", \"Topic3\", \"Topic3\", \"Topic3\", \"Topic3\", \"Topic3\"], \"logprob\": [30.0, 29.0, 28.0, 27.0, 26.0, 25.0, 24.0, 23.0, 22.0, 21.0, 20.0, 19.0, 18.0, 17.0, 16.0, 15.0, 14.0, 13.0, 12.0, 11.0, 10.0, 9.0, 8.0, 7.0, 6.0, 5.0, 4.0, 3.0, 2.0, 1.0, -2.2702, -4.0954, -4.2944, -4.4969, -4.3946, -4.578, -4.5981, -4.7274, -4.7498, -4.8077, -4.8505, -4.8944, -5.0121, -4.7833, -5.0008, -5.0976, -5.1552, -5.2672, -5.4513, -5.4879, -5.393, -5.5498, -5.5489, -5.6055, -5.6153, -5.6908, -5.6875, -5.6546, -5.7516, -5.7954, -5.717, -3.7051, -5.2593, -4.2196, -4.4536, -4.7484, -4.6091, -5.4892, -4.3867, -4.6929, -5.1828, -5.0285, -5.1368, -4.9533, -4.9051, -5.1709, -5.0948, -5.1079, -5.4383, -5.4281, -5.5693, -5.8551, -5.8455, -5.8292, -6.0386, -6.0844, -6.075, -5.9776, -6.173, -6.0771, -6.1014, -6.2217, -6.2338, -6.1975, -6.2179, -6.2269, -6.2812, -6.3373, -6.2754, -6.0486, -6.3262, -6.2413, -6.3972, -6.3124, -6.4861, -6.4796, -6.402, -6.2071, -6.2194, -6.3312, -5.7894, -5.4068, -5.8187, -5.7886, -5.7671, -5.9179, -5.1307, -6.0389, -5.3137, -5.3438, -5.3631, -5.269, -5.6471, -5.9146, -5.0239, -5.6935, -5.7472, -5.4983, -5.9387, -5.8976, -5.8151, -5.7518, -6.0093, -5.9948, -3.0277, -3.2666, -3.5764, -4.1214, -4.2471, -4.202, -4.5235, -4.4961, -4.4777, -4.8187, -4.8074, -4.9624, -5.0093, -5.1459, -5.1477, -5.011, -5.3374, -5.4506, -5.4266, -5.4051, -5.4191, -5.5348, -5.6089, -5.5955, -5.5789, -5.5734, -5.2391, -5.6068, -5.4129, -5.7617, -4.5538, -4.9204, -4.528, -3.8052, -5.2303, -4.6076, -4.7697, -4.0463, -4.7556, -4.851, -4.0411, -4.9992, -4.3811, -4.9966, -5.1163, -5.1092, -5.1356], \"loglift\": [30.0, 29.0, 28.0, 27.0, 26.0, 25.0, 24.0, 23.0, 22.0, 21.0, 20.0, 19.0, 18.0, 17.0, 16.0, 15.0, 14.0, 13.0, 12.0, 11.0, 10.0, 9.0, 8.0, 7.0, 6.0, 5.0, 4.0, 3.0, 2.0, 1.0, 1.265, 1.265, 1.265, 1.265, 1.265, 1.265, 1.2649, 1.2649, 1.2649, 1.2649, 1.2649, 1.2649, 1.2649, 1.2649, 1.2649, 1.2649, 1.2649, 1.2649, 1.2648, 1.2648, 1.2648, 1.2648, 1.2648, 1.2648, 1.2648, 1.2648, 1.2648, 1.2648, 1.2648, 1.2647, 1.2647, 1.1829, 1.2409, 1.0784, 1.1, 1.0467, 0.9128, 1.2201, 0.7568, 0.8829, 1.09, 1.0097, 1.0223, 0.6973, 0.329, 0.9805, 0.6739, 0.672, 0.6719, 0.6719, 0.6719, 0.6719, 0.6719, 0.6719, 0.6719, 0.6719, 0.6718, 0.6718, 0.6718, 0.6718, 0.6718, 0.6718, 0.6718, 0.6718, 0.6718, 0.6718, 0.6718, 0.6718, 0.6718, 0.6718, 0.6718, 0.6718, 0.6718, 0.6718, 0.6718, 0.6717, 0.6717, 0.6716, 0.6717, 0.6717, 0.6579, 0.6074, 0.6252, 0.6214, 0.617, 0.6281, 0.446, 0.6089, 0.3738, 0.3656, 0.3383, 0.1803, 0.351, 0.5, -0.0997, 0.2925, 0.1284, -0.2642, 0.3796, 0.1703, -0.1646, -0.6083, 0.262, -0.6751, 1.5745, 1.5745, 1.5745, 1.5745, 1.5745, 1.5745, 1.5744, 1.5744, 1.5744, 1.5744, 1.5744, 1.5744, 1.5744, 1.5744, 1.5743, 1.5743, 1.5743, 1.5743, 1.5743, 1.5743, 1.5743, 1.5743, 1.5742, 1.5742, 1.5742, 1.5742, 1.5742, 1.5742, 1.5742, 1.5742, 1.5604, 1.5352, 1.4848, 1.4102, 1.5392, 1.4097, 1.4378, 1.2734, 1.3991, 1.3894, 0.8831, 1.3596, 0.9835, 1.3282, 1.3096, 0.8919, 1.0111]}, \"token.table\": {\"Topic\": [3, 1, 2, 2, 1, 1, 1, 2, 1, 1, 2, 2, 2, 1, 1, 1, 3, 1, 2, 3, 2, 3, 1, 2, 2, 1, 2, 3, 2, 3, 1, 1, 2, 3, 1, 1, 2, 3, 3, 2, 3, 1, 3, 2, 3, 2, 1, 1, 1, 2, 1, 2, 3, 2, 1, 2, 1, 2, 3, 1, 2, 3, 2, 1, 2, 3, 1, 2, 2, 2, 1, 2, 3, 1, 1, 2, 1, 2, 3, 2, 3, 3, 1, 2, 3, 1, 1, 2, 3, 1, 3, 1, 2, 3, 1, 2, 3, 1, 2, 3, 3, 1, 1, 2, 2, 2, 3, 1, 2, 3, 3, 1, 2, 2, 3, 2, 1, 1, 3, 1, 2, 2, 3, 2, 1, 2, 3, 3, 2, 3, 2, 1, 2, 3, 3, 1, 1, 2, 3, 1, 2, 3, 2, 3, 1, 2, 1, 2, 1, 1, 1, 2, 2, 3, 3, 3, 3, 3, 1, 2, 3, 1, 1, 1, 2, 3, 1, 2, 3, 1, 1, 2, 2, 2, 1, 2, 2, 3, 2, 3, 2, 1, 2, 3, 3, 2, 2, 3, 1, 2, 3, 3, 3, 3, 3, 1, 1, 2, 3, 2, 3, 3, 3, 3, 1, 2, 1, 3, 1, 3, 1, 2, 3, 2, 2, 2, 1, 2, 3, 1, 2, 1, 2, 3, 2, 2], \"Freq\": [0.9998934220214304, 0.04924123047931631, 0.9506128309802149, 0.9998334855836115, 0.9998219766982547, 0.9999737686766305, 0.9760720622179045, 0.02380663566385133, 0.9998413668986705, 0.9999477654592357, 0.9997565924374969, 0.9998730303763687, 0.9995959026539936, 0.9998454023319433, 0.999830595847868, 0.9561027686552966, 0.04375023829784282, 0.9998840447586014, 0.0002960025496941905, 0.9996006103172813, 0.999455444747687, 0.00031598338436537686, 0.06256135971973524, 0.9374886308640327, 0.9997805945241566, 0.019029510997110408, 0.956912552997552, 0.023786888746388013, 0.1689058268959183, 0.8310099922082778, 0.9997875344880643, 0.3921677236795883, 0.39210671438841227, 0.2157288535984792, 0.9998512403781347, 0.9998990943957825, 0.9998455063443338, 0.0002697182374816115, 0.9998109046295257, 0.2600137203998987, 0.7399623592055399, 0.9998008471016863, 0.9999571495930549, 0.12774494963247476, 0.8722509139886172, 0.9996670746850876, 0.9997195368639658, 0.9999612475082267, 0.8394632967757464, 0.16051352008589442, 0.00014712032653339254, 0.0138293106941389, 0.9860004284267968, 0.9999451196644097, 0.9999217176843856, 0.9998143664431218, 0.4193914032591988, 0.5805888174436546, 0.9999064843303344, 0.7030940443761587, 0.17630233674648646, 0.12057224875786476, 0.9998584208508688, 0.7745833008511624, 0.22524407903645843, 0.9996882474823351, 0.5667460090711165, 0.43313274587133, 0.9996820069691696, 0.9997620471354096, 0.2323202417503638, 0.6055215007169398, 0.16223088223801102, 0.9999226886744432, 0.00035776476466211883, 0.99959475246596, 0.332876100108648, 0.11339200486157161, 0.5537506552559276, 0.0003521574513911927, 0.999775004499596, 0.9998449373096038, 0.26389438060621045, 0.7360386219957525, 0.9995436198621535, 0.9998323852506774, 0.10190577754808282, 0.7253909975080753, 0.17276827838807357, 0.4946854206151874, 0.5053280551622871, 0.034564468407065924, 0.0002833153148120158, 0.9652552775645377, 0.13488057023749309, 0.8418613500242941, 0.023241571012940634, 0.9996468214641993, 0.16085925226306405, 0.839072499661716, 0.999886152757061, 0.9996439091880032, 0.013958718361995708, 0.9859371219509615, 0.9997142366927768, 0.9999056318437768, 0.9998918312139632, 0.20621730819655004, 0.7463875800604791, 0.047449826820378536, 0.9995133575329788, 0.7844589072002884, 0.21542614163993798, 0.9463629105017748, 0.05357134781500578, 0.9997460939218011, 0.9998599806342378, 0.21829452418124654, 0.7816469484826, 0.8038341508130707, 0.19609361965830963, 0.43068392151202156, 0.5692808644968358, 0.9997963230901168, 0.9996939399998065, 0.9998927850986933, 0.9999666147342972, 0.9999554183085488, 0.23268609486896896, 0.7673818620937759, 0.9997620871849862, 0.2154779964190982, 0.6842235237644279, 0.10029756590078145, 0.999838776302694, 0.9998748364768658, 0.18781882497494004, 0.7421532199546583, 0.06999996084188716, 0.17691542204162206, 0.6115613519847688, 0.21149640915583132, 0.03849799190445056, 0.9614149053557679, 0.9998878056270271, 0.9999301978799362, 0.8297378792596874, 0.1702793578350601, 0.9997048244005495, 0.999869752421338, 0.0003199452635388139, 0.9995090032952546, 0.19333552861552372, 0.8065980800256981, 0.9998454808652631, 0.9999196334880945, 0.999945934699479, 0.9997497075723066, 0.9998344112750622, 0.00032910941779955966, 0.9998026993428648, 0.9997684165337934, 0.9998570183115112, 0.00013291932227298402, 0.0857329628660747, 0.9142190985935842, 0.5537102128069692, 0.2368134331245153, 0.20952885991491857, 0.9998028663762438, 0.9998355765975581, 0.9996269468886586, 0.9999200011155087, 0.9997452197210844, 0.04561954836756747, 0.9543282203349877, 0.15195632114833726, 0.8480444601169508, 0.9996026366459231, 0.9998916565782218, 0.9998231240871663, 0.2032897060014521, 0.663574781232513, 0.13305922331847797, 0.9997087239989981, 0.9996586426596792, 0.7162178597667752, 0.28378076134567753, 0.03692283307221778, 0.4622291151149882, 0.500852636255987, 0.9995883757447108, 0.9996860121988015, 0.9999272331306504, 0.9998041015993558, 0.9998740154224374, 0.7523501185624333, 0.17499355304902547, 0.07253223184841806, 0.1515595442932652, 0.8483981128198268, 0.9998840498350637, 0.9997866891484469, 0.9999196272687192, 0.8478781866490804, 0.1520906691780393, 0.9211074286255239, 0.07885957226330047, 0.9999931918692314, 0.9997309502779285, 0.6824450262567849, 0.16530850327725066, 0.15225557210938465, 0.9998602456868785, 0.9997182997194496, 0.9996807166570629, 0.6015628584388492, 0.27793162636969987, 0.1204909116124506, 0.06095598392146336, 0.9389228305269027, 0.12642539864274363, 0.7976574607772289, 0.07588961726821389, 0.9997140655370362, 0.9996934615362831], \"Term\": [\"active\", \"also\", \"also\", \"andolan\", \"app\", \"approval\", \"approved\", \"approved\", \"approves\", \"astrazeneca\", \"australia\", \"awareness\", \"back\", \"begin\", \"bharat\", \"biggest\", \"biggest\", \"biotech\", \"boris\", \"boris\", \"cancel\", \"cancel\", \"china\", \"china\", \"combat\", \"concern\", \"concern\", \"concern\", \"corona\", \"corona\", \"council\", \"country\", \"country\", \"country\", \"covaxin\", \"covishield\", \"crisis\", \"crisis\", \"daily\", \"day\", \"day\", \"dcgi\", \"death\", \"delhi\", \"delhi\", \"despite\", \"dos\", \"drive\", \"drug\", \"drug\", \"dry\", \"dry\", \"dry\", \"due\", \"emergency\", \"even\", \"fight\", \"fight\", \"fightcorona\", \"first\", \"first\", \"first\", \"flight\", \"free\", \"free\", \"fresh\", \"get\", \"get\", \"going\", \"good\", \"govt\", \"govt\", \"govt\", \"gst\", \"happy\", \"happy\", \"health\", \"health\", \"health\", \"highest\", \"highest\", \"hour\", \"indian\", \"indian\", \"infection\", \"institute\", \"jan\", \"jan\", \"jan\", \"january\", \"january\", \"johnson\", \"johnson\", \"johnson\", \"know\", \"know\", \"know\", \"largest\", \"last\", \"last\", \"latest\", \"launch\", \"leading\", \"leading\", \"life\", \"like\", \"live\", \"lockdown\", \"lockdown\", \"lockdown\", \"lowest\", \"made\", \"made\", \"many\", \"many\", \"mask\", \"minister\", \"ministry\", \"ministry\", \"modi\", \"modi\", \"month\", \"month\", \"much\", \"namo\", \"need\", \"new\", \"news\", \"number\", \"number\", \"nyks\", \"one\", \"one\", \"one\", \"outbreak\", \"oxford\", \"pandemic\", \"pandemic\", \"pandemic\", \"people\", \"people\", \"people\", \"per\", \"per\", \"phase\", \"please\", \"pm\", \"pm\", \"prime\", \"programme\", \"public\", \"public\", \"rate\", \"rate\", \"record\", \"recovery\", \"report\", \"reported\", \"return\", \"return\", \"rise\", \"roll\", \"rollout\", \"run\", \"run\", \"run\", \"say\", \"say\", \"say\", \"scientist\", \"serum\", \"service\", \"sir\", \"situation\", \"started\", \"started\", \"state\", \"state\", \"still\", \"strain\", \"student\", \"take\", \"take\", \"take\", \"tally\", \"team\", \"test\", \"test\", \"time\", \"time\", \"time\", \"toll\", \"top\", \"total\", \"tracker\", \"trial\", \"two\", \"two\", \"two\", \"uk\", \"uk\", \"union\", \"unite\", \"update\", \"use\", \"use\", \"vaccination\", \"vaccination\", \"vaccine\", \"variant\", \"via\", \"via\", \"via\", \"want\", \"well\", \"work\", \"world\", \"world\", \"world\", \"would\", \"would\", \"year\", \"year\", \"year\", \"young\", \"yuvashaktiwithmodi\"]}, \"R\": 30, \"lambda.step\": 0.01, \"plot.opts\": {\"xlab\": \"PC1\", \"ylab\": \"PC2\"}, \"topic.order\": [1, 2, 3]};\n",
       "\n",
       "function LDAvis_load_lib(url, callback){\n",
       "  var s = document.createElement('script');\n",
       "  s.src = url;\n",
       "  s.async = true;\n",
       "  s.onreadystatechange = s.onload = callback;\n",
       "  s.onerror = function(){console.warn(\"failed to load library \" + url);};\n",
       "  document.getElementsByTagName(\"head\")[0].appendChild(s);\n",
       "}\n",
       "\n",
       "if(typeof(LDAvis) !== \"undefined\"){\n",
       "   // already loaded: just create the visualization\n",
       "   !function(LDAvis){\n",
       "       new LDAvis(\"#\" + \"ldavis_el1214426595913075522471900635\", ldavis_el1214426595913075522471900635_data);\n",
       "   }(LDAvis);\n",
       "}else if(typeof define === \"function\" && define.amd){\n",
       "   // require.js is available: use it to load d3/LDAvis\n",
       "   require.config({paths: {d3: \"https://d3js.org/d3.v5\"}});\n",
       "   require([\"d3\"], function(d3){\n",
       "      window.d3 = d3;\n",
       "      LDAvis_load_lib(\"https://cdn.jsdelivr.net/gh/bmabey/pyLDAvis@3.3.1/pyLDAvis/js/ldavis.v3.0.0.js\", function(){\n",
       "        new LDAvis(\"#\" + \"ldavis_el1214426595913075522471900635\", ldavis_el1214426595913075522471900635_data);\n",
       "      });\n",
       "    });\n",
       "}else{\n",
       "    // require.js not available: dynamically load d3 & LDAvis\n",
       "    LDAvis_load_lib(\"https://d3js.org/d3.v5.js\", function(){\n",
       "         LDAvis_load_lib(\"https://cdn.jsdelivr.net/gh/bmabey/pyLDAvis@3.3.1/pyLDAvis/js/ldavis.v3.0.0.js\", function(){\n",
       "                 new LDAvis(\"#\" + \"ldavis_el1214426595913075522471900635\", ldavis_el1214426595913075522471900635_data);\n",
       "            })\n",
       "         });\n",
       "}\n",
       "</script>"
      ],
      "text/plain": [
       "<IPython.core.display.HTML object>"
      ]
     },
     "execution_count": 24,
     "metadata": {},
     "output_type": "execute_result"
    }
   ],
   "source": [
    "lda_return = lda_model(tweet_data.clean_tweet,1,n_topics=3)\n",
    "lda_return[2]"
   ]
  },
  {
   "cell_type": "code",
   "execution_count": 26,
   "metadata": {},
   "outputs": [],
   "source": [
    "#lda_model = gensim.models.ldamodel.LdaModel.load('model1_3.gensim')\n",
    "#visualisation = gm.prepare(lda_model, lda_return[1], lda_return[0])\n",
    "#pyLDAvis.save_html(visualisation, 'LDA_Visualization_1.html') "
   ]
  },
  {
   "cell_type": "code",
   "execution_count": 29,
   "metadata": {},
   "outputs": [],
   "source": [
    "#topic1 -> Covid cases and death \n",
    "#topic2 -> vaccine\n",
    "#topic3 -> Income/money/finance  \n",
    "#Extracted after analysis\n",
    "topic_diction = {0:'covid cases and death',1:'vaccine',2:'income/money/finance'}\n",
    "\n",
    "\n",
    "tweet_data['dominant_topic'] = ''\n",
    "tweet_data['perc_contribution'] = 0\n",
    "lda_decode = lda_model[lda_return[1]]\n",
    "\n",
    "for ind, row in enumerate(lda_decode):\n",
    "    top_val = sorted(row, key=lambda x: (x[1]), reverse=True)[0]\n",
    "    \n",
    "    tweet_data.loc[ind,'dominant_topic'] = topic_diction[top_val[0]]\n",
    "    tweet_data.loc[ind,'perc_contribution'] = top_val[1]\n",
    "    \n",
    "#tweet_data.to_csv('tweet_topic_dataset.csv',index = False)"
   ]
  },
  {
   "cell_type": "code",
   "execution_count": null,
   "metadata": {},
   "outputs": [],
   "source": []
  }
 ],
 "metadata": {
  "kernelspec": {
   "display_name": "Python 3",
   "language": "python",
   "name": "python3"
  },
  "language_info": {
   "codemirror_mode": {
    "name": "ipython",
    "version": 3
   },
   "file_extension": ".py",
   "mimetype": "text/x-python",
   "name": "python",
   "nbconvert_exporter": "python",
   "pygments_lexer": "ipython3",
   "version": "3.8.5"
  }
 },
 "nbformat": 4,
 "nbformat_minor": 5
}
